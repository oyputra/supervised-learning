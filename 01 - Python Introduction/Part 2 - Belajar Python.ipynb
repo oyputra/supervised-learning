{
 "cells": [
  {
   "cell_type": "markdown",
   "id": "b14291dc",
   "metadata": {},
   "source": [
    "# Print "
   ]
  },
  {
   "cell_type": "code",
   "execution_count": 2,
   "id": "77993ecd",
   "metadata": {},
   "outputs": [
    {
     "name": "stdout",
     "output_type": "stream",
     "text": [
      "Halo, nama saya J.COp\n"
     ]
    }
   ],
   "source": [
    "print(\"Halo, nama saya J.COp\")"
   ]
  },
  {
   "cell_type": "code",
   "execution_count": 3,
   "id": "108afc29",
   "metadata": {},
   "outputs": [
    {
     "name": "stdout",
     "output_type": "stream",
     "text": [
      "Halo, nama saya J.COp\n"
     ]
    }
   ],
   "source": [
    "print('Halo, nama saya J.COp')"
   ]
  },
  {
   "cell_type": "code",
   "execution_count": 4,
   "id": "fb2775c9",
   "metadata": {},
   "outputs": [
    {
     "name": "stdout",
     "output_type": "stream",
     "text": [
      "Halo, nama saya J.COp\n"
     ]
    }
   ],
   "source": [
    "print(\"\"\"Halo, nama saya J.COp\"\"\")"
   ]
  },
  {
   "cell_type": "markdown",
   "id": "b311abf3",
   "metadata": {},
   "source": [
    "# Variable "
   ]
  },
  {
   "cell_type": "code",
   "execution_count": 5,
   "id": "b04fe4f7",
   "metadata": {},
   "outputs": [],
   "source": [
    "a = 1"
   ]
  },
  {
   "cell_type": "code",
   "execution_count": 6,
   "id": "5a4c848c",
   "metadata": {},
   "outputs": [
    {
     "data": {
      "text/plain": [
       "1"
      ]
     },
     "execution_count": 6,
     "metadata": {},
     "output_type": "execute_result"
    }
   ],
   "source": [
    "a"
   ]
  },
  {
   "cell_type": "code",
   "execution_count": 7,
   "id": "f50fc803",
   "metadata": {},
   "outputs": [],
   "source": [
    "a, b = 2, 3"
   ]
  },
  {
   "cell_type": "code",
   "execution_count": 8,
   "id": "96682472",
   "metadata": {},
   "outputs": [
    {
     "data": {
      "text/plain": [
       "3"
      ]
     },
     "execution_count": 8,
     "metadata": {},
     "output_type": "execute_result"
    }
   ],
   "source": [
    "b"
   ]
  },
  {
   "cell_type": "code",
   "execution_count": 9,
   "id": "5c968685",
   "metadata": {},
   "outputs": [
    {
     "data": {
      "text/plain": [
       "2"
      ]
     },
     "execution_count": 9,
     "metadata": {},
     "output_type": "execute_result"
    }
   ],
   "source": [
    "a"
   ]
  },
  {
   "cell_type": "code",
   "execution_count": 10,
   "id": "fe660f95",
   "metadata": {},
   "outputs": [
    {
     "data": {
      "text/plain": [
       "(2, 3)"
      ]
     },
     "execution_count": 10,
     "metadata": {},
     "output_type": "execute_result"
    }
   ],
   "source": [
    "a, b"
   ]
  },
  {
   "cell_type": "markdown",
   "id": "27266ea3",
   "metadata": {},
   "source": [
    "# List "
   ]
  },
  {
   "cell_type": "code",
   "execution_count": 11,
   "id": "825aefeb",
   "metadata": {},
   "outputs": [],
   "source": [
    "a = [1, 2, 3, \"empat\", \"lima\", 6]"
   ]
  },
  {
   "cell_type": "code",
   "execution_count": 12,
   "id": "b3fd023f",
   "metadata": {},
   "outputs": [
    {
     "data": {
      "text/plain": [
       "[1, 2, 3, 'empat', 'lima', 6]"
      ]
     },
     "execution_count": 12,
     "metadata": {},
     "output_type": "execute_result"
    }
   ],
   "source": [
    "a"
   ]
  },
  {
   "cell_type": "code",
   "execution_count": 14,
   "id": "2c9a19fc",
   "metadata": {},
   "outputs": [
    {
     "data": {
      "text/plain": [
       "1"
      ]
     },
     "execution_count": 14,
     "metadata": {},
     "output_type": "execute_result"
    }
   ],
   "source": [
    "a[0]"
   ]
  },
  {
   "cell_type": "code",
   "execution_count": 15,
   "id": "ea2633d1",
   "metadata": {},
   "outputs": [
    {
     "data": {
      "text/plain": [
       "2"
      ]
     },
     "execution_count": 15,
     "metadata": {},
     "output_type": "execute_result"
    }
   ],
   "source": [
    "a[1]"
   ]
  },
  {
   "cell_type": "code",
   "execution_count": 16,
   "id": "098a1713",
   "metadata": {},
   "outputs": [
    {
     "data": {
      "text/plain": [
       "6"
      ]
     },
     "execution_count": 16,
     "metadata": {},
     "output_type": "execute_result"
    }
   ],
   "source": [
    "a[-1]"
   ]
  },
  {
   "cell_type": "code",
   "execution_count": 17,
   "id": "a023e3b6",
   "metadata": {},
   "outputs": [
    {
     "data": {
      "text/plain": [
       "'lima'"
      ]
     },
     "execution_count": 17,
     "metadata": {},
     "output_type": "execute_result"
    }
   ],
   "source": [
    "a[-2]"
   ]
  },
  {
   "cell_type": "code",
   "execution_count": 18,
   "id": "fae7aa73",
   "metadata": {},
   "outputs": [],
   "source": [
    "a.append(7)"
   ]
  },
  {
   "cell_type": "code",
   "execution_count": 19,
   "id": "c5c3c9e4",
   "metadata": {},
   "outputs": [
    {
     "data": {
      "text/plain": [
       "[1, 2, 3, 'empat', 'lima', 6, 7]"
      ]
     },
     "execution_count": 19,
     "metadata": {},
     "output_type": "execute_result"
    }
   ],
   "source": [
    "a"
   ]
  },
  {
   "cell_type": "code",
   "execution_count": 20,
   "id": "db40d48b",
   "metadata": {},
   "outputs": [
    {
     "data": {
      "text/plain": [
       "7"
      ]
     },
     "execution_count": 20,
     "metadata": {},
     "output_type": "execute_result"
    }
   ],
   "source": [
    "len(a)"
   ]
  },
  {
   "cell_type": "code",
   "execution_count": 21,
   "id": "a769c06c",
   "metadata": {},
   "outputs": [],
   "source": [
    "a = []"
   ]
  },
  {
   "cell_type": "code",
   "execution_count": 22,
   "id": "18a1cc66",
   "metadata": {},
   "outputs": [
    {
     "data": {
      "text/plain": [
       "[]"
      ]
     },
     "execution_count": 22,
     "metadata": {},
     "output_type": "execute_result"
    }
   ],
   "source": [
    "a"
   ]
  },
  {
   "cell_type": "code",
   "execution_count": 23,
   "id": "7f4a2b87",
   "metadata": {},
   "outputs": [],
   "source": [
    "a.append(1)"
   ]
  },
  {
   "cell_type": "code",
   "execution_count": 24,
   "id": "c928d39a",
   "metadata": {},
   "outputs": [
    {
     "data": {
      "text/plain": [
       "[1]"
      ]
     },
     "execution_count": 24,
     "metadata": {},
     "output_type": "execute_result"
    }
   ],
   "source": [
    "a"
   ]
  },
  {
   "cell_type": "code",
   "execution_count": 25,
   "id": "0d001e1b",
   "metadata": {},
   "outputs": [],
   "source": [
    "a.append(2)"
   ]
  },
  {
   "cell_type": "code",
   "execution_count": 26,
   "id": "b714a6f0",
   "metadata": {},
   "outputs": [
    {
     "data": {
      "text/plain": [
       "[1, 2]"
      ]
     },
     "execution_count": 26,
     "metadata": {},
     "output_type": "execute_result"
    }
   ],
   "source": [
    "a"
   ]
  },
  {
   "cell_type": "markdown",
   "id": "6ebdaaa4",
   "metadata": {},
   "source": [
    "# Slicing "
   ]
  },
  {
   "cell_type": "markdown",
   "id": "21982f90",
   "metadata": {},
   "source": [
    "`inclusive`:`exclusive`:`step`"
   ]
  },
  {
   "cell_type": "code",
   "execution_count": 27,
   "id": "7688a08a",
   "metadata": {},
   "outputs": [],
   "source": [
    "a = [0, 1, 2, 3, 4, 5, 6]"
   ]
  },
  {
   "cell_type": "code",
   "execution_count": 28,
   "id": "21ab8fd4",
   "metadata": {},
   "outputs": [
    {
     "data": {
      "text/plain": [
       "[0, 1]"
      ]
     },
     "execution_count": 28,
     "metadata": {},
     "output_type": "execute_result"
    }
   ],
   "source": [
    "a[0:2]"
   ]
  },
  {
   "cell_type": "code",
   "execution_count": 29,
   "id": "47ce67fd",
   "metadata": {},
   "outputs": [
    {
     "data": {
      "text/plain": [
       "[0, 1, 2, 3, 4]"
      ]
     },
     "execution_count": 29,
     "metadata": {},
     "output_type": "execute_result"
    }
   ],
   "source": [
    "a[0:5]"
   ]
  },
  {
   "cell_type": "code",
   "execution_count": 30,
   "id": "e652d31b",
   "metadata": {},
   "outputs": [
    {
     "data": {
      "text/plain": [
       "[3, 4]"
      ]
     },
     "execution_count": 30,
     "metadata": {},
     "output_type": "execute_result"
    }
   ],
   "source": [
    "a[3:-2]"
   ]
  },
  {
   "cell_type": "code",
   "execution_count": 31,
   "id": "4fc26e84",
   "metadata": {},
   "outputs": [
    {
     "data": {
      "text/plain": [
       "[0, 1, 2, 3, 4]"
      ]
     },
     "execution_count": 31,
     "metadata": {},
     "output_type": "execute_result"
    }
   ],
   "source": [
    "a[:5]"
   ]
  },
  {
   "cell_type": "code",
   "execution_count": 32,
   "id": "f64e834c",
   "metadata": {},
   "outputs": [
    {
     "data": {
      "text/plain": [
       "[3, 4, 5, 6]"
      ]
     },
     "execution_count": 32,
     "metadata": {},
     "output_type": "execute_result"
    }
   ],
   "source": [
    "a[3:]"
   ]
  },
  {
   "cell_type": "code",
   "execution_count": 33,
   "id": "5088d1e8",
   "metadata": {},
   "outputs": [
    {
     "data": {
      "text/plain": [
       "[0, 2, 4, 6]"
      ]
     },
     "execution_count": 33,
     "metadata": {},
     "output_type": "execute_result"
    }
   ],
   "source": [
    "a[::2]"
   ]
  },
  {
   "cell_type": "code",
   "execution_count": 34,
   "id": "52e219ae",
   "metadata": {},
   "outputs": [
    {
     "data": {
      "text/plain": [
       "[1, 3]"
      ]
     },
     "execution_count": 34,
     "metadata": {},
     "output_type": "execute_result"
    }
   ],
   "source": [
    "a[1:5:2]"
   ]
  },
  {
   "cell_type": "code",
   "execution_count": 35,
   "id": "4e8e602c",
   "metadata": {},
   "outputs": [
    {
     "data": {
      "text/plain": [
       "[6, 5, 4, 3, 2, 1, 0]"
      ]
     },
     "execution_count": 35,
     "metadata": {},
     "output_type": "execute_result"
    }
   ],
   "source": [
    "a[::-1]"
   ]
  },
  {
   "cell_type": "markdown",
   "id": "43b5a5b7",
   "metadata": {},
   "source": [
    "# Join & Split "
   ]
  },
  {
   "cell_type": "code",
   "execution_count": 36,
   "id": "1fec94cb",
   "metadata": {},
   "outputs": [],
   "source": [
    "a = [\"cat\", \"dog\", \"fish\"]"
   ]
  },
  {
   "cell_type": "code",
   "execution_count": 37,
   "id": "bb04dea1",
   "metadata": {},
   "outputs": [
    {
     "data": {
      "text/plain": [
       "'cat dog fish'"
      ]
     },
     "execution_count": 37,
     "metadata": {},
     "output_type": "execute_result"
    }
   ],
   "source": [
    "\" \".join(a)"
   ]
  },
  {
   "cell_type": "code",
   "execution_count": 38,
   "id": "0b22ce44",
   "metadata": {},
   "outputs": [
    {
     "data": {
      "text/plain": [
       "'cat, dog, fish'"
      ]
     },
     "execution_count": 38,
     "metadata": {},
     "output_type": "execute_result"
    }
   ],
   "source": [
    "\", \".join(a)"
   ]
  },
  {
   "cell_type": "code",
   "execution_count": 39,
   "id": "ac321e5a",
   "metadata": {},
   "outputs": [],
   "source": [
    "a = \"Video ini tentang intro python\""
   ]
  },
  {
   "cell_type": "code",
   "execution_count": 40,
   "id": "09534de1",
   "metadata": {},
   "outputs": [
    {
     "data": {
      "text/plain": [
       "['Video', 'ini', 'tentang', 'intro', 'python']"
      ]
     },
     "execution_count": 40,
     "metadata": {},
     "output_type": "execute_result"
    }
   ],
   "source": [
    "a.split()"
   ]
  },
  {
   "cell_type": "code",
   "execution_count": 41,
   "id": "6f9f55d0",
   "metadata": {},
   "outputs": [],
   "source": [
    "a = \"Hari ini, Sarimin pergi ke pasar\""
   ]
  },
  {
   "cell_type": "code",
   "execution_count": 45,
   "id": "7bdbcf62",
   "metadata": {},
   "outputs": [
    {
     "data": {
      "text/plain": [
       "['Hari ini', 'Sarimin pergi ke pasar']"
      ]
     },
     "execution_count": 45,
     "metadata": {},
     "output_type": "execute_result"
    }
   ],
   "source": [
    "a.split(\", \")"
   ]
  },
  {
   "cell_type": "markdown",
   "id": "cdd27b14",
   "metadata": {},
   "source": [
    "# Dictionary "
   ]
  },
  {
   "cell_type": "markdown",
   "id": "b4a6369c",
   "metadata": {},
   "source": [
    "`key`: `value`"
   ]
  },
  {
   "cell_type": "code",
   "execution_count": 48,
   "id": "058b5fd3",
   "metadata": {},
   "outputs": [],
   "source": [
    "a = {\n",
    "    \"cat\": \"kucing\", \n",
    "    \"dog\": \"anjing\", \n",
    "    \"fish\": \"ikan\"\n",
    "}"
   ]
  },
  {
   "cell_type": "code",
   "execution_count": 49,
   "id": "ce8f069c",
   "metadata": {},
   "outputs": [
    {
     "data": {
      "text/plain": [
       "'kucing'"
      ]
     },
     "execution_count": 49,
     "metadata": {},
     "output_type": "execute_result"
    }
   ],
   "source": [
    "a[\"cat\"]"
   ]
  },
  {
   "cell_type": "code",
   "execution_count": 50,
   "id": "37142743",
   "metadata": {},
   "outputs": [
    {
     "data": {
      "text/plain": [
       "'ikan'"
      ]
     },
     "execution_count": 50,
     "metadata": {},
     "output_type": "execute_result"
    }
   ],
   "source": [
    "a[\"fish\"]"
   ]
  },
  {
   "cell_type": "code",
   "execution_count": 51,
   "id": "df88ef8f",
   "metadata": {},
   "outputs": [],
   "source": [
    "a['bird'] = 'burung'"
   ]
  },
  {
   "cell_type": "code",
   "execution_count": 52,
   "id": "16e3464c",
   "metadata": {},
   "outputs": [
    {
     "data": {
      "text/plain": [
       "{'cat': 'kucing', 'dog': 'anjing', 'fish': 'ikan', 'bird': 'burung'}"
      ]
     },
     "execution_count": 52,
     "metadata": {},
     "output_type": "execute_result"
    }
   ],
   "source": [
    "a"
   ]
  },
  {
   "cell_type": "code",
   "execution_count": 53,
   "id": "52f9d15c",
   "metadata": {},
   "outputs": [],
   "source": [
    "a['elephant'] = 'gajah'"
   ]
  },
  {
   "cell_type": "code",
   "execution_count": 54,
   "id": "a817c8f6",
   "metadata": {},
   "outputs": [
    {
     "data": {
      "text/plain": [
       "{'cat': 'kucing',\n",
       " 'dog': 'anjing',\n",
       " 'fish': 'ikan',\n",
       " 'bird': 'burung',\n",
       " 'elephant': 'gajah'}"
      ]
     },
     "execution_count": 54,
     "metadata": {},
     "output_type": "execute_result"
    }
   ],
   "source": [
    "a"
   ]
  },
  {
   "cell_type": "code",
   "execution_count": 55,
   "id": "669805fa",
   "metadata": {},
   "outputs": [
    {
     "data": {
      "text/plain": [
       "dict_keys(['cat', 'dog', 'fish', 'bird', 'elephant'])"
      ]
     },
     "execution_count": 55,
     "metadata": {},
     "output_type": "execute_result"
    }
   ],
   "source": [
    "a.keys()"
   ]
  },
  {
   "cell_type": "code",
   "execution_count": 56,
   "id": "dd9a7160",
   "metadata": {},
   "outputs": [
    {
     "data": {
      "text/plain": [
       "dict_values(['kucing', 'anjing', 'ikan', 'burung', 'gajah'])"
      ]
     },
     "execution_count": 56,
     "metadata": {},
     "output_type": "execute_result"
    }
   ],
   "source": [
    "a.values()"
   ]
  },
  {
   "cell_type": "code",
   "execution_count": 57,
   "id": "dccabac3",
   "metadata": {},
   "outputs": [],
   "source": [
    "nilai = {\"Andi\": 40, \"Budi\": 55, \"Caca\": 75, \"Deddy\": 100}"
   ]
  },
  {
   "cell_type": "code",
   "execution_count": 58,
   "id": "1bed1adf",
   "metadata": {},
   "outputs": [
    {
     "data": {
      "text/plain": [
       "40"
      ]
     },
     "execution_count": 58,
     "metadata": {},
     "output_type": "execute_result"
    }
   ],
   "source": [
    "nilai[\"Andi\"]"
   ]
  },
  {
   "cell_type": "code",
   "execution_count": 59,
   "id": "23924660",
   "metadata": {},
   "outputs": [
    {
     "data": {
      "text/plain": [
       "{'Andi': 40, 'Budi': 55, 'Caca': 75, 'Deddy': 100}"
      ]
     },
     "execution_count": 59,
     "metadata": {},
     "output_type": "execute_result"
    }
   ],
   "source": [
    "nilai"
   ]
  },
  {
   "cell_type": "code",
   "execution_count": 60,
   "id": "5941486a",
   "metadata": {},
   "outputs": [],
   "source": [
    "nilai['Deddy'] = 90"
   ]
  },
  {
   "cell_type": "code",
   "execution_count": 61,
   "id": "3bfcccf4",
   "metadata": {},
   "outputs": [
    {
     "data": {
      "text/plain": [
       "{'Andi': 40, 'Budi': 55, 'Caca': 75, 'Deddy': 90}"
      ]
     },
     "execution_count": 61,
     "metadata": {},
     "output_type": "execute_result"
    }
   ],
   "source": [
    "nilai"
   ]
  },
  {
   "cell_type": "markdown",
   "id": "dd44d80a",
   "metadata": {},
   "source": [
    "# Fungsi "
   ]
  },
  {
   "cell_type": "code",
   "execution_count": 62,
   "id": "e8fa53db",
   "metadata": {},
   "outputs": [],
   "source": [
    "def jumlah(a, b):\n",
    "    return a + b"
   ]
  },
  {
   "cell_type": "code",
   "execution_count": 64,
   "id": "13ad713e",
   "metadata": {},
   "outputs": [
    {
     "data": {
      "text/plain": [
       "7"
      ]
     },
     "execution_count": 64,
     "metadata": {},
     "output_type": "execute_result"
    }
   ],
   "source": [
    "jumlah(3, 4)"
   ]
  },
  {
   "cell_type": "code",
   "execution_count": 65,
   "id": "680603c5",
   "metadata": {},
   "outputs": [],
   "source": [
    "def perkalian(a, b):\n",
    "    return a * b"
   ]
  },
  {
   "cell_type": "code",
   "execution_count": 66,
   "id": "4152ffd8",
   "metadata": {},
   "outputs": [
    {
     "data": {
      "text/plain": [
       "15129"
      ]
     },
     "execution_count": 66,
     "metadata": {},
     "output_type": "execute_result"
    }
   ],
   "source": [
    "perkalian(123, 123)"
   ]
  },
  {
   "cell_type": "markdown",
   "id": "cfb5b52f",
   "metadata": {},
   "source": [
    "# Conditionals "
   ]
  },
  {
   "cell_type": "code",
   "execution_count": 69,
   "id": "84baad3a",
   "metadata": {},
   "outputs": [],
   "source": [
    "score = 100"
   ]
  },
  {
   "cell_type": "code",
   "execution_count": 70,
   "id": "57c3b4ae",
   "metadata": {},
   "outputs": [
    {
     "name": "stdout",
     "output_type": "stream",
     "text": [
      "Indeks: S\n"
     ]
    }
   ],
   "source": [
    "if 0 <= score < 60:\n",
    "    print(\"Indeks: C\")\n",
    "elif 60 <= score < 80:\n",
    "    print(\"Indeks: B\")\n",
    "elif 80 <= score < 100:\n",
    "    print(\"Indeks: A\")\n",
    "elif score == 100:\n",
    "    print(\"Indeks: S\")\n",
    "else:\n",
    "    print(\"nilainya ngaco\")"
   ]
  },
  {
   "cell_type": "code",
   "execution_count": 71,
   "id": "d8a052ba",
   "metadata": {},
   "outputs": [],
   "source": [
    "def konversi_ke_indeks(score):\n",
    "    if 0 <= score < 60:\n",
    "        return \"Indeks: C\"\n",
    "    elif 60 <= score < 80:\n",
    "        return \"Indeks: B\"\n",
    "    elif 80 <= score < 100:\n",
    "        return \"Indeks: A\"\n",
    "    elif score == 100:\n",
    "        return \"Indeks: S\"\n",
    "    else:\n",
    "        return \"nilainya ngaco\""
   ]
  },
  {
   "cell_type": "code",
   "execution_count": 73,
   "id": "2a2d1550",
   "metadata": {},
   "outputs": [
    {
     "data": {
      "text/plain": [
       "'nilainya ngaco'"
      ]
     },
     "execution_count": 73,
     "metadata": {},
     "output_type": "execute_result"
    }
   ],
   "source": [
    "konversi_ke_indeks(-10)"
   ]
  },
  {
   "cell_type": "markdown",
   "id": "b02a91b8",
   "metadata": {},
   "source": [
    "# Iterasi (Menelusuri)"
   ]
  },
  {
   "cell_type": "code",
   "execution_count": 74,
   "id": "8ad1c18d",
   "metadata": {},
   "outputs": [],
   "source": [
    "numbers = [1, 2, 3, 4, 5, 6]"
   ]
  },
  {
   "cell_type": "code",
   "execution_count": 75,
   "id": "546472f5",
   "metadata": {},
   "outputs": [
    {
     "name": "stdout",
     "output_type": "stream",
     "text": [
      "1\n",
      "2\n",
      "3\n",
      "4\n",
      "5\n",
      "6\n"
     ]
    }
   ],
   "source": [
    "for n in numbers:\n",
    "    print(n)"
   ]
  },
  {
   "cell_type": "code",
   "execution_count": 77,
   "id": "e758817e",
   "metadata": {},
   "outputs": [
    {
     "name": "stdout",
     "output_type": "stream",
     "text": [
      "Indeks: A\n",
      "Indeks: C\n",
      "Indeks: C\n",
      "nilainya ngaco\n"
     ]
    }
   ],
   "source": [
    "for score in [80, 30, 55, 120]:\n",
    "    print(konversi_ke_indeks(score))"
   ]
  },
  {
   "cell_type": "code",
   "execution_count": 78,
   "id": "1a375136",
   "metadata": {},
   "outputs": [
    {
     "name": "stdout",
     "output_type": "stream",
     "text": [
      "1\n",
      "4\n",
      "9\n",
      "16\n",
      "25\n",
      "36\n"
     ]
    }
   ],
   "source": [
    "for number in numbers:\n",
    "    print(number**2)"
   ]
  },
  {
   "cell_type": "code",
   "execution_count": 79,
   "id": "a38ac952",
   "metadata": {},
   "outputs": [],
   "source": [
    "animals = [\"Cat\", \"Fish\", \"Elephant\", \"Bird\"]"
   ]
  },
  {
   "cell_type": "code",
   "execution_count": 80,
   "id": "e1bf9adf",
   "metadata": {},
   "outputs": [
    {
     "name": "stdout",
     "output_type": "stream",
     "text": [
      "Cat\n",
      "Fish\n",
      "Elephant\n",
      "Bird\n"
     ]
    }
   ],
   "source": [
    "for animal in animals:\n",
    "    print(animal)"
   ]
  },
  {
   "cell_type": "code",
   "execution_count": 82,
   "id": "2dc82834",
   "metadata": {},
   "outputs": [
    {
     "name": "stdout",
     "output_type": "stream",
     "text": [
      "CAT\n",
      "FISH\n",
      "ELEPHANT\n",
      "BIRD\n"
     ]
    }
   ],
   "source": [
    "for animal in animals:\n",
    "    print(animal.upper())"
   ]
  },
  {
   "cell_type": "code",
   "execution_count": 83,
   "id": "0e43d3ab",
   "metadata": {},
   "outputs": [
    {
     "name": "stdout",
     "output_type": "stream",
     "text": [
      "cat\n",
      "fish\n",
      "elephant\n",
      "bird\n"
     ]
    }
   ],
   "source": [
    "for animal in animals:\n",
    "    print(animal.lower())"
   ]
  },
  {
   "cell_type": "code",
   "execution_count": 86,
   "id": "92f60151",
   "metadata": {},
   "outputs": [
    {
     "name": "stdout",
     "output_type": "stream",
     "text": [
      "2\n",
      "4\n"
     ]
    }
   ],
   "source": [
    "for i in range(2, 5, 2):\n",
    "    print(i)"
   ]
  },
  {
   "cell_type": "code",
   "execution_count": 87,
   "id": "66434f66",
   "metadata": {},
   "outputs": [
    {
     "data": {
      "text/plain": [
       "{'cat': 'kucing',\n",
       " 'dog': 'anjing',\n",
       " 'fish': 'ikan',\n",
       " 'bird': 'burung',\n",
       " 'elephant': 'gajah'}"
      ]
     },
     "execution_count": 87,
     "metadata": {},
     "output_type": "execute_result"
    }
   ],
   "source": [
    "a"
   ]
  },
  {
   "cell_type": "code",
   "execution_count": 88,
   "id": "5dfbf8db",
   "metadata": {},
   "outputs": [
    {
     "data": {
      "text/plain": [
       "dict_keys(['cat', 'dog', 'fish', 'bird', 'elephant'])"
      ]
     },
     "execution_count": 88,
     "metadata": {},
     "output_type": "execute_result"
    }
   ],
   "source": [
    "a.keys()"
   ]
  },
  {
   "cell_type": "code",
   "execution_count": 91,
   "id": "b5b8c384",
   "metadata": {},
   "outputs": [
    {
     "name": "stdout",
     "output_type": "stream",
     "text": [
      "Bahasa Indonesia dari cat adalah kucing\n",
      "Bahasa Indonesia dari dog adalah anjing\n",
      "Bahasa Indonesia dari fish adalah ikan\n",
      "Bahasa Indonesia dari bird adalah burung\n",
      "Bahasa Indonesia dari elephant adalah gajah\n"
     ]
    }
   ],
   "source": [
    "for key in a.keys():\n",
    "    print(f\"Bahasa Indonesia dari {key} adalah {a[key]}\")"
   ]
  },
  {
   "cell_type": "code",
   "execution_count": 92,
   "id": "7701cb2f",
   "metadata": {},
   "outputs": [],
   "source": [
    "a = []\n",
    "for i in range(5):\n",
    "    a.append(i**2)"
   ]
  },
  {
   "cell_type": "code",
   "execution_count": 93,
   "id": "7a14e972",
   "metadata": {},
   "outputs": [
    {
     "data": {
      "text/plain": [
       "[0, 1, 4, 9, 16]"
      ]
     },
     "execution_count": 93,
     "metadata": {},
     "output_type": "execute_result"
    }
   ],
   "source": [
    "a"
   ]
  },
  {
   "cell_type": "markdown",
   "id": "800dd89a",
   "metadata": {},
   "source": [
    "# Python Comprehension "
   ]
  },
  {
   "cell_type": "code",
   "execution_count": 94,
   "id": "4fd0ed39",
   "metadata": {},
   "outputs": [],
   "source": [
    "a = [i**2 for i in range(5)]"
   ]
  },
  {
   "cell_type": "code",
   "execution_count": 95,
   "id": "b1869d88",
   "metadata": {},
   "outputs": [
    {
     "data": {
      "text/plain": [
       "[0, 1, 4, 9, 16]"
      ]
     },
     "execution_count": 95,
     "metadata": {},
     "output_type": "execute_result"
    }
   ],
   "source": [
    "a"
   ]
  },
  {
   "cell_type": "code",
   "execution_count": 96,
   "id": "64810089",
   "metadata": {},
   "outputs": [],
   "source": [
    "a = {i: i**2 for i in range(5)}"
   ]
  },
  {
   "cell_type": "code",
   "execution_count": 97,
   "id": "96c03181",
   "metadata": {},
   "outputs": [
    {
     "data": {
      "text/plain": [
       "{0: 0, 1: 1, 2: 4, 3: 9, 4: 16}"
      ]
     },
     "execution_count": 97,
     "metadata": {},
     "output_type": "execute_result"
    }
   ],
   "source": [
    "a"
   ]
  },
  {
   "cell_type": "code",
   "execution_count": 98,
   "id": "59243380",
   "metadata": {},
   "outputs": [],
   "source": [
    "a = {i**2 for i in range(5)}"
   ]
  },
  {
   "cell_type": "code",
   "execution_count": 99,
   "id": "86aab124",
   "metadata": {},
   "outputs": [
    {
     "data": {
      "text/plain": [
       "{0, 1, 4, 9, 16}"
      ]
     },
     "execution_count": 99,
     "metadata": {},
     "output_type": "execute_result"
    }
   ],
   "source": [
    "a"
   ]
  },
  {
   "cell_type": "code",
   "execution_count": 100,
   "id": "343042aa",
   "metadata": {},
   "outputs": [
    {
     "data": {
      "text/plain": [
       "{1, 2, 3, 4}"
      ]
     },
     "execution_count": 100,
     "metadata": {},
     "output_type": "execute_result"
    }
   ],
   "source": [
    "{1, 1, 2, 3, 1, 2, 4, 3, 2, 3, 2, 1, 4}"
   ]
  },
  {
   "cell_type": "code",
   "execution_count": 101,
   "id": "c6e4ccc5",
   "metadata": {},
   "outputs": [],
   "source": [
    "nilai = [konversi_ke_indeks(score) for score in [20, 40, 80, 30, 10, -5, 105]]"
   ]
  },
  {
   "cell_type": "code",
   "execution_count": 102,
   "id": "7cc3c79b",
   "metadata": {},
   "outputs": [
    {
     "data": {
      "text/plain": [
       "['Indeks: C',\n",
       " 'Indeks: C',\n",
       " 'Indeks: A',\n",
       " 'Indeks: C',\n",
       " 'Indeks: C',\n",
       " 'nilainya ngaco',\n",
       " 'nilainya ngaco']"
      ]
     },
     "execution_count": 102,
     "metadata": {},
     "output_type": "execute_result"
    }
   ],
   "source": [
    "nilai"
   ]
  },
  {
   "cell_type": "markdown",
   "id": "8b642308",
   "metadata": {},
   "source": [
    "# Exercise: Kucing berhitung "
   ]
  },
  {
   "cell_type": "code",
   "execution_count": 18,
   "id": "77f72348",
   "metadata": {},
   "outputs": [
    {
     "name": "stdout",
     "output_type": "stream",
     "text": [
      "1\n",
      "2\n",
      "3\n",
      "4\n",
      "5\n",
      "6\n",
      "7\n",
      "8\n",
      "9\n",
      "10\n",
      "11\n",
      "12\n",
      "13\n",
      "14\n",
      "15\n",
      "16\n",
      "17\n",
      "18\n",
      "18\n",
      "18\n"
     ]
    }
   ],
   "source": [
    "for angka in range(1, 21):\n",
    "    if angka > 18:\n",
    "        print(18)\n",
    "    else:\n",
    "        print(angka)"
   ]
  },
  {
   "cell_type": "code",
   "execution_count": 19,
   "id": "ce3023ad",
   "metadata": {},
   "outputs": [
    {
     "name": "stdout",
     "output_type": "stream",
     "text": [
      "1\n",
      "2\n",
      "3\n",
      "4\n",
      "5\n",
      "6\n",
      "7\n",
      "8\n",
      "9\n",
      "10\n",
      "11\n",
      "12\n",
      "13\n",
      "14\n",
      "15\n",
      "16\n",
      "17\n",
      "18\n",
      "18\n",
      "18\n"
     ]
    }
   ],
   "source": [
    "for angka in range(1, 21):\n",
    "    print(min(angka, 18))"
   ]
  },
  {
   "cell_type": "markdown",
   "id": "61b505c5",
   "metadata": {},
   "source": [
    "# Daftar Pangkat "
   ]
  },
  {
   "cell_type": "code",
   "execution_count": 24,
   "id": "f967b56a",
   "metadata": {},
   "outputs": [
    {
     "data": {
      "text/plain": [
       "[0, 1, 4, 9, 16]"
      ]
     },
     "execution_count": 24,
     "metadata": {},
     "output_type": "execute_result"
    }
   ],
   "source": [
    "a = []\n",
    "for i in range(0, 5):\n",
    "    a.append(i**2)\n",
    "a"
   ]
  },
  {
   "cell_type": "markdown",
   "id": "b7a60aef",
   "metadata": {},
   "source": [
    "# List Comprehension "
   ]
  },
  {
   "cell_type": "code",
   "execution_count": 26,
   "id": "8f512e9e",
   "metadata": {},
   "outputs": [
    {
     "data": {
      "text/plain": [
       "[0, 1, 4, 9, 16]"
      ]
     },
     "execution_count": 26,
     "metadata": {},
     "output_type": "execute_result"
    }
   ],
   "source": [
    "a = [i**2 for i in range(0, 5)]\n",
    "a"
   ]
  }
 ],
 "metadata": {
  "kernelspec": {
   "display_name": "Python 3 (ipykernel)",
   "language": "python",
   "name": "python3"
  },
  "language_info": {
   "codemirror_mode": {
    "name": "ipython",
    "version": 3
   },
   "file_extension": ".py",
   "mimetype": "text/x-python",
   "name": "python",
   "nbconvert_exporter": "python",
   "pygments_lexer": "ipython3",
   "version": "3.9.5"
  }
 },
 "nbformat": 4,
 "nbformat_minor": 5
}
